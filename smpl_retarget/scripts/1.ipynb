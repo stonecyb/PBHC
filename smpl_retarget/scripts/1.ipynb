{
 "cells": [
  {
   "cell_type": "code",
   "execution_count": null,
   "id": "c3b22262",
   "metadata": {},
   "outputs": [],
   "source": [
    "import numpy as np\n",
    "ning_rotation_axis = np.array([[ \n",
    "    [0, 0, 1], # l_shoulder_pitch\n",
    "    [1, 0, 0], # l_roll_pitch\n",
    "    [0, 0, 1], # l_yaw_pitch\n",
    "    \n",
    "    [0, 1, 0], # l_elbow\n",
    "\n",
    "    [0, 0, 1], # l_hip_yaw\n",
    "    [1, 0, 0], # l_hip_roll\n",
    "    [0, 1, 0], # l_hip_pitch\n",
    "    \n",
    "    [0, 1, 0], # l_knee\n",
    "    [0, 1, 0], # l_ankle\n",
    "    \n",
    "    [0, 0, 1], # r_shoulder_pitch\n",
    "    [1, 0, 0], # r_roll_pitch\n",
    "    [0, 0, 1], # r_yaw_pitch\n",
    "    \n",
    "    [0, 1, 0], # r_elbow\n",
    "    \n",
    "    [0, 0, 1], # r_hip_yaw\n",
    "    [1, 0, 0], # r_hip_roll\n",
    "    [0, 1, 0], # r_hip_pitch\n",
    "    \n",
    "    [0, 1, 0], # r_knee\n",
    "    [0, 1, 0], # r_ankle\n",
    "\n",
    "]])\n",
    "g1_dof = np.load(\"/home/cheng/Downloads/PBHC/description/robots/g1/dof_axis.npy\")"
   ]
  },
  {
   "cell_type": "code",
   "execution_count": null,
   "id": "f6db02c1",
   "metadata": {
    "vscode": {
     "languageId": "plaintext"
    }
   },
   "outputs": [],
   "source": [
    "ning_rotation_axis = torch.tensor([[ \n",
    "    [0, 0, 1], # l_shoulder_pitch\n",
    "    [1, 0, 0], # l_roll_pitch\n",
    "    [0, 0, 1], # l_yaw_pitch\n",
    "    \n",
    "    [0, 1, 0], # l_elbow\n",
    "\n",
    "    [0, 0, 1], # l_hip_yaw\n",
    "    [1, 0, 0], # l_hip_roll\n",
    "    [0, 1, 0], # l_hip_pitch\n",
    "    \n",
    "    [0, 1, 0], # l_knee\n",
    "    [0, 1, 0], # l_ankle\n",
    "    \n",
    "    [0, 0, 1], # r_shoulder_pitch\n",
    "    [1, 0, 0], # r_roll_pitch\n",
    "    [0, 0, 1], # r_yaw_pitch\n",
    "    \n",
    "    [0, 1, 0], # r_elbow\n",
    "    \n",
    "    [0, 0, 1], # r_hip_yaw\n",
    "    [1, 0, 0], # r_hip_roll\n",
    "    [0, 1, 0], # r_hip_pitch\n",
    "    \n",
    "    [0, 1, 0], # r_knee\n",
    "    [0, 1, 0], # r_ankle\n",
    "\n",
    "]]).to(device)"
   ]
  }
 ],
 "metadata": {
  "language_info": {
   "name": "python"
  }
 },
 "nbformat": 4,
 "nbformat_minor": 5
}
